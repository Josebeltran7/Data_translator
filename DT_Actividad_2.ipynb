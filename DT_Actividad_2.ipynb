{
 "cells": [
  {
   "cell_type": "code",
   "execution_count": 107,
   "id": "4834c7f1",
   "metadata": {},
   "outputs": [],
   "source": [
    "import pandas as pd\n",
    "import numpy as np\n",
    "import requests\n",
    "import pickle\n",
    "import openpyxl"
   ]
  },
  {
   "cell_type": "markdown",
   "id": "04cf44f7",
   "metadata": {},
   "source": [
    "### Parte 1\n",
    "\n",
    "Leer los archivos:\n",
    "\n",
    "Machine-readable-business-employmet-data-sep-2021-quarter.csv\n",
    "\n",
    "annual-enterprise-survey-2020-financial-year-provisional-csv.csv\n",
    "\n",
    "electronic-card-transactions-November-2021-csv-tables.csv\n",
    "\n",
    "Convertir los archivos a dataframes\n"
   ]
  },
  {
   "cell_type": "code",
   "execution_count": 108,
   "id": "ae5f1d55",
   "metadata": {},
   "outputs": [],
   "source": [
    "pd.read_csv('Machine-readable-business-employment-data-sep-2021-quarter.csv');csv1\n",
    "pd.read_csv('annual-enterprise-survey-2020-financial-year-provisional-csv.csv');csv2\n",
    "pd.read_csv('electronic-card-transactions-November-2021-csv-tables.csv');csv3\n",
    "df1=pd.DataFrame(csv1)\n",
    "df2=pd.DataFrame(csv2)\n",
    "df3=pd.DataFrame(csv3)"
   ]
  },
  {
   "cell_type": "markdown",
   "id": "2703d29a",
   "metadata": {},
   "source": [
    "## Parte 2\n",
    "\n",
    "Leer los archivos:\n",
    "\n",
    "SampleData.xlsx\n",
    "\n",
    "sampledatafoodsales.xlsx\n",
    "\n",
    "sampledatainsurance.xlsx\n",
    "\n",
    "Guardarlos como dataframes.\n",
    "\n",
    "*Revisar la hoja que se debe utilizar\n"
   ]
  },
  {
   "cell_type": "code",
   "execution_count": 109,
   "id": "e9334764",
   "metadata": {},
   "outputs": [],
   "source": [
    "xlsx1=pd.read_excel('SampleData.xlsx',1, engine='openpyxl')\n",
    "xlsx2=pd.read_excel('sampledatafoodsales.xlsx',1,engine='openpyxl')\n",
    "xlsx3=pd.read_excel('sampledatainsurance.xlsx',1,engine='openpyxl')\n",
    "df4=pd.DataFrame(xlsx1)\n",
    "df5=pd.DataFrame(xlsx2)\n",
    "df6=pd.DataFrame(xlsx3)\n"
   ]
  },
  {
   "cell_type": "markdown",
   "id": "22b3e6d9",
   "metadata": {},
   "source": [
    "## Parte 3\n",
    "\n",
    "Leer los siguientes archivos JSON:\n",
    "    \n",
    "https://jsonplaceholder.typicode.com/todosEnlaces a un sitio externo. \n",
    "    \n",
    "https://jsonplaceholder.typicode.com/photosEnlaces a un sitio externo. \n",
    "    \n",
    "https://jsonplaceholder.typicode.com/albumsEnlaces a un sitio externo. \n",
    "    \n",
    "Guardarlos como dataframes"
   ]
  },
  {
   "cell_type": "code",
   "execution_count": 110,
   "id": "59635873",
   "metadata": {},
   "outputs": [],
   "source": [
    "json1=requests.get('https://jsonplaceholder.typicode.com/todos').json()\n",
    "json2=requests.get('https://jsonplaceholder.typicode.com/photos').json()\n",
    "json3=requests.get('https://jsonplaceholder.typicode.com/albums').json()\n",
    "\n",
    "df7=pd.json_normalize(json1)\n",
    "df8=pd.json_normalize(json2)\n",
    "df9=pd.json_normalize(json3)"
   ]
  },
  {
   "cell_type": "markdown",
   "id": "c1bf2f8c",
   "metadata": {},
   "source": [
    "## Parte 4\n",
    "\n",
    "Convertir todos los dataframes anteriores a:\n",
    "    \n",
    "CSV\n",
    "\n",
    "Excel\n",
    "\n",
    "JSON"
   ]
  },
  {
   "cell_type": "code",
   "execution_count": 111,
   "id": "fe00c07a",
   "metadata": {},
   "outputs": [],
   "source": [
    "for i,df in enumerate([df1,df2,df3,df4,df5,df6,df7,df8,df9]):\n",
    "    df.to_csv(f\"data{i}.csv\")\n",
    "    df.to_excel(f\"data{i}.xlsx\")\n",
    "    df.to_json(f\"data{i}.json\")"
   ]
  },
  {
   "cell_type": "markdown",
   "id": "674d3c18",
   "metadata": {},
   "source": [
    "## Parte 5\n",
    "\n",
    "Hacer pickle todos los dataframes anteriores\n",
    "\n",
    "Un-Pickle todos los archivos Pickleados"
   ]
  },
  {
   "cell_type": "code",
   "execution_count": 112,
   "id": "2796c01f",
   "metadata": {},
   "outputs": [],
   "source": [
    "for i,df in enumerate([df1,df2,df3,df4,df5,df6,df7,df8,df9]):\n",
    "    with open(f\"data{i}.pickle\",'wb') as f:\n",
    "        pickle.dump(df,f,protocol=0)"
   ]
  },
  {
   "cell_type": "code",
   "execution_count": 113,
   "id": "09e52d44",
   "metadata": {},
   "outputs": [
    {
     "name": "stdout",
     "output_type": "stream",
     "text": [
      "(19093, 14)\n",
      "(37080, 10)\n",
      "(18240, 14)\n",
      "(43, 7)\n",
      "(244, 8)\n",
      "(500, 10)\n",
      "(200, 4)\n",
      "(5000, 5)\n",
      "(100, 3)\n"
     ]
    }
   ],
   "source": [
    "for i,df in enumerate([df1,df2,df3,df4,df5,df6,df7,df8,df9]):\n",
    "    with open(f\"data{i}.pickle\",'rb') as f:\n",
    "        print(pickle.load(f).shape)"
   ]
  },
  {
   "cell_type": "code",
   "execution_count": null,
   "id": "909739f1",
   "metadata": {},
   "outputs": [],
   "source": []
  },
  {
   "cell_type": "code",
   "execution_count": null,
   "id": "9144cf1c",
   "metadata": {},
   "outputs": [],
   "source": []
  }
 ],
 "metadata": {
  "kernelspec": {
   "display_name": "Python 3",
   "language": "python",
   "name": "python3"
  },
  "language_info": {
   "codemirror_mode": {
    "name": "ipython",
    "version": 3
   },
   "file_extension": ".py",
   "mimetype": "text/x-python",
   "name": "python",
   "nbconvert_exporter": "python",
   "pygments_lexer": "ipython3",
   "version": "3.6.13"
  }
 },
 "nbformat": 4,
 "nbformat_minor": 5
}
