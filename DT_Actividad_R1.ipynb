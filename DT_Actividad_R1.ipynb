{
 "cells": [
  {
   "cell_type": "markdown",
   "id": "0b8e6d92",
   "metadata": {},
   "source": [
    "## 1. Escribe una función que imprima la cadena \"Hola mundo“"
   ]
  },
  {
   "cell_type": "code",
   "execution_count": 4,
   "id": "19a671cc",
   "metadata": {},
   "outputs": [
    {
     "name": "stdout",
     "output_type": "stream",
     "text": [
      "Hola mundo\n"
     ]
    }
   ],
   "source": [
    "def hola():\n",
    "    print(\"Hola mundo\")\n",
    "hola()"
   ]
  },
  {
   "cell_type": "markdown",
   "id": "5241dc2c",
   "metadata": {},
   "source": [
    "## 2. Si desea construir algo usando una Raspberry Pi, probablemente use resistencias. Para este ejercicio, necesitas saber dos cosas sobre ellos:\n",
    "• Cada resistencia tiene un valor específico, los resistores son pequeños, tan pequeños que si \n",
    "imprimieras el valor de resistencia en ellos, sería difícil de leer.\n",
    "\n",
    "• Para solucionar este problema, los fabricantes imprimen bandas codificadas por colores en las \n",
    "resistencias para indicar sus valores. Cada banda tiene una posición y un valor numérico.\n",
    "\n",
    "• Las primeras 2 bandas de una resistencia tienen un esquema de codificación simple: cada color \n",
    "se asigna a un solo número. Por ejemplo, si imprimieran una banda marrón (valor 1) seguida de \n",
    "una banda verde (valor 5), se traduciría en el número 15.\n",
    "\n",
    "• En este ejercicio vas a crear un programa útil para que no tengas que recordar los valores de las \n",
    "bandas. El programa tomará los nombres de los colores como entrada y generará un número de \n",
    "dos dígitos, ¡incluso si la entrada es de más de dos colores!\n",
    "\n",
    "• Los colores de la banda se codifican de la siguiente manera:\n",
    "    Negro: 0, Marrón: 1, Rojo: 2, Naranja: 3, Amarillo: 4, Verde: 5, Azul: 6, Púrpura: 7, Gris: 8, Blanco: 9\n",
    "    \n",
    "• El argumento de la función debe aceptar una cadena de colores separados por un guión."
   ]
  },
  {
   "cell_type": "code",
   "execution_count": 8,
   "id": "92286abd",
   "metadata": {},
   "outputs": [],
   "source": [
    "codigos={\"negro\":0,\"marron\":1,\"rojo\":2,\"naranja\":3,\"amarillo\":4,\"verde\":5,\"azul\":6,\"purpura\":7,\"gris\":8,\"blanco\":9}"
   ]
  },
  {
   "cell_type": "code",
   "execution_count": 9,
   "id": "500d1a03",
   "metadata": {},
   "outputs": [],
   "source": [
    "def resistencias(cadena):\n",
    "    cad = cadena.split(\"-\")\n",
    "    print(cad)\n",
    "    num1=str(codigos.get(cad[0]))\n",
    "    num2=str(codigos.get(cad[1]))\n",
    "    print(\"El número es: \", num1+num2)"
   ]
  },
  {
   "cell_type": "code",
   "execution_count": 12,
   "id": "81f37a02",
   "metadata": {},
   "outputs": [
    {
     "name": "stdout",
     "output_type": "stream",
     "text": [
      "['azul', 'verde', 'purpura', 'marron', 'azul']\n",
      "El número es:  65\n"
     ]
    }
   ],
   "source": [
    "resistencias(\"azul-verde-purpura-marron-azul\")"
   ]
  },
  {
   "cell_type": "markdown",
   "id": "eb082a6e",
   "metadata": {},
   "source": [
    "## 3.- Crear una función que la entrada sea un año, y este de como salida si es un año bisiesto o no.\n",
    "• Un año bisiesto en el calendario gregoriano:\n",
    "\n",
    "• Por lo cual entra cada año que es divisible por 4, excepto los años que son divisibles por 100, a menos que el año también sea divisible por 400\n"
   ]
  },
  {
   "cell_type": "code",
   "execution_count": null,
   "id": "77047212",
   "metadata": {},
   "outputs": [],
   "source": []
  },
  {
   "cell_type": "code",
   "execution_count": null,
   "id": "2e0a6870",
   "metadata": {},
   "outputs": [],
   "source": []
  },
  {
   "cell_type": "code",
   "execution_count": 116,
   "id": "c9710df8",
   "metadata": {},
   "outputs": [
    {
     "name": "stdout",
     "output_type": "stream",
     "text": [
      "El año es bisiesto\n"
     ]
    }
   ],
   "source": [
    "def bisiesto(año):\n",
    "    if año%400==0:\n",
    "        print(\"El año es bisiesto\")\n",
    "        return\n",
    "    if año%100==0:\n",
    "        print(\"El año no es bisiesto\")\n",
    "        return\n",
    "    if año%4==0:\n",
    "        print(\"El año es bisiesto\")\n",
    "        return\n",
    "    else:\n",
    "        print(\"El año no es bisiesto\")\n",
    "        return\n",
    "bisiesto(800)"
   ]
  },
  {
   "cell_type": "markdown",
   "id": "35b594ad",
   "metadata": {},
   "source": [
    "## 4. Dado un nombre de planeta y una edad en segundos, calcula qué edad tendría alguien en:\n",
    "• Mercurio: período orbital 0,2408467 años terrestres\n",
    "\n",
    "• Venus: período orbital 0,61519726 años terrestres\n",
    "\n",
    "• Tierra: período orbital 1,0 años terrestres, 365,25 días terrestres o 31557600 segundos\n",
    "\n",
    "• Marte: período orbital 1,8808158 años terrestres\n",
    "\n",
    "• Júpiter: período orbital 11,862615 años terrestres\n",
    "\n",
    "• Saturno: período orbital 29,447498 años terrestres\n",
    "\n",
    "• Urano: período orbital 84,016846 años terrestres\n",
    "\n",
    "• Neptuno: período orbital 164,79132 años terrestres\n",
    "\n",
    "• Por tanto, si te dijeran que alguien tiene 1.000.000.000 de segundos, deberías poder decir que tiene 31,69 años terrestres.Redondea a 2 dígitos después del decimal."
   ]
  },
  {
   "cell_type": "code",
   "execution_count": 93,
   "id": "ad2a428c",
   "metadata": {},
   "outputs": [],
   "source": [
    "def edad(planeta,segundos):\n",
    "    edad_tierra=segundos/(60*60*24*365.25)\n",
    "    dic={\"mercurio\":0.2408467,\"venus\":0.61519726,\"tierra\":1,\"marte\":1.8808158,\"jupiter\":11.862615,\"saturno\":29.447498,\"urano\":84.016846,\"neptuno\":164.79132}\n",
    "    edad=round(dic.get(planeta)*edad_tierra,2)\n",
    "    print(\"La edad en \",planeta, \"es de: \",edad, \"años\")"
   ]
  },
  {
   "cell_type": "code",
   "execution_count": 101,
   "id": "c272d128",
   "metadata": {},
   "outputs": [
    {
     "name": "stdout",
     "output_type": "stream",
     "text": [
      "La edad en  neptuno es de:  164.79 años\n"
     ]
    }
   ],
   "source": [
    "edad(\"neptuno\",31557600)"
   ]
  },
  {
   "cell_type": "code",
   "execution_count": null,
   "id": "5c931ca2",
   "metadata": {},
   "outputs": [],
   "source": []
  }
 ],
 "metadata": {
  "kernelspec": {
   "display_name": "Python 3",
   "language": "python",
   "name": "python3"
  },
  "language_info": {
   "codemirror_mode": {
    "name": "ipython",
    "version": 3
   },
   "file_extension": ".py",
   "mimetype": "text/x-python",
   "name": "python",
   "nbconvert_exporter": "python",
   "pygments_lexer": "ipython3",
   "version": "3.6.13"
  }
 },
 "nbformat": 4,
 "nbformat_minor": 5
}
